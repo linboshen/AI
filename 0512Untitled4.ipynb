{
 "cells": [
  {
   "cell_type": "code",
   "execution_count": 7,
   "id": "89f98191",
   "metadata": {},
   "outputs": [
    {
     "name": "stdout",
     "output_type": "stream",
     "text": [
      "實際 [1 0 0 2 2 0 0 2 2 2 1 1 2 2 0 2 2 2 1 0 0 0 0 1 2 2 2 0 2 1 2 0 2 1 0 2 2\n",
      " 2 1 1 1 2 0 1 2 1 0 0 2 1 0 0 1 0 1 0 0 1 2 0 0 1 2 1 2 0 0 0 0 1 0 1 1 2\n",
      " 2 2 0 2 1 1 2 0 1 1 1 2 0 0 0 1 1 1 0 2 0 1 0 1 2 2 0 2 2 1 2 1 1 2 0 0 1\n",
      " 2 1 1 0 1 0 0 1 0]\n",
      "預測 [2 1 1 0 0 1 1 0 0 2 2 2 2 0 1 0 0 0 2 1 1 1 1 2 0 2 0 1 0 2 0 1 0 2 1 0 2\n",
      " 2 2 2 2 0 1 2 2 2 1 1 0 2 1 1 2 1 2 1 1 2 0 1 1 2 0 2 0 1 1 1 1 2 1 2 0 2\n",
      " 0 2 1 0 2 2 2 1 2 2 2 0 1 1 1 2 2 2 1 2 1 2 1 2 0 0 1 0 2 2 2 2 2 0 1 1 2\n",
      " 0 2 2 1 2 1 1 0 1]\n",
      "調整 [0 1 1 2 2 1 1 2 2 2 0 0 2 2 1 2 2 2 0 1 1 1 1 0 2 2 2 1 2 0 2 1 2 0 1 2 2\n",
      " 2 0 0 0 2 1 0 2 0 1 1 2 0 1 1 0 1 0 1 1 0 2 1 1 0 2 0 2 1 1 1 1 0 1 0 0 2\n",
      " 2 2 1 2 0 0 2 1 0 0 0 2 1 1 1 0 0 0 1 2 1 0 1 0 2 2 1 2 2 0 2 0 0 2 1 1 0\n",
      " 2 0 0 1 0 1 1 0 1]\n",
      "準確率:0.466667\n"
     ]
    }
   ],
   "source": [
    "import matplotlib.pyplot as plt\n",
    "import numpy as np\n",
    "from sklearn import datasets\n",
    "from sklearn.model_selection import train_test_split\n",
    "from sklearn.cluster import KMeans\n",
    "from sklearn import metrics\n",
    "\n",
    "iris = datasets.load_iris()\n",
    "\n",
    "iris_X_train , iris_X_test , iris_y_train , iris_y_test = train_test_split(iris.data,iris.target,test_size=0.2)\n",
    "\n",
    "kmeans = KMeans(n_clusters = 3)\n",
    "kmeans_fit=kmeans.fit(iris_X_train)\n",
    "\n",
    "print(\"實際\",iris_y_train)\n",
    "print(\"預測\",kmeans_fit.labels_)\n",
    "\n",
    "iris_y_train[iris_y_train==1]=11\n",
    "iris_y_train[iris_y_train==0]=1\n",
    "iris_y_train[iris_y_train==11]=0\n",
    "print(\"調整\",iris_y_train)\n",
    "\n",
    "score = metrics.accuracy_score(iris_y_train,kmeans.predict(iris_X_train))\n",
    "print('準確率:{0:f}'.format(score))"
   ]
  },
  {
   "cell_type": "code",
   "execution_count": null,
   "id": "2ac6e482",
   "metadata": {},
   "outputs": [],
   "source": []
  },
  {
   "cell_type": "code",
   "execution_count": null,
   "id": "421d2e82",
   "metadata": {},
   "outputs": [],
   "source": []
  },
  {
   "cell_type": "code",
   "execution_count": null,
   "id": "671e8115",
   "metadata": {},
   "outputs": [],
   "source": []
  }
 ],
 "metadata": {
  "kernelspec": {
   "display_name": "Python 3",
   "language": "python",
   "name": "python3"
  },
  "language_info": {
   "codemirror_mode": {
    "name": "ipython",
    "version": 3
   },
   "file_extension": ".py",
   "mimetype": "text/x-python",
   "name": "python",
   "nbconvert_exporter": "python",
   "pygments_lexer": "ipython3",
   "version": "3.8.8"
  }
 },
 "nbformat": 4,
 "nbformat_minor": 5
}
